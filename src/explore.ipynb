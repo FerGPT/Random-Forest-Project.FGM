{
 "cells": [
  {
   "cell_type": "markdown",
   "metadata": {},
   "source": [
    "# Random Forest Project\n",
    "\n",
    "**Objective:** \n",
    "\n",
    "I will focus on applying the 'Random tree' machine learning model to train the dataset and compare the performance between the accuracy with the model done in the previous proyect, 'Decision Tree'.\n",
    "\n",
    "This view would allow us to improve the effectiveness of the model when an individual tree is not sufficient."
   ]
  },
  {
   "cell_type": "markdown",
   "metadata": {},
   "source": [
    "--------------------------------------------------------------------------------------"
   ]
  },
  {
   "cell_type": "markdown",
   "metadata": {},
   "source": [
    "The following assesment will display the differences between 'Decision Tree' and 'Random Forest' models."
   ]
  },
  {
   "cell_type": "markdown",
   "metadata": {},
   "source": [
    "**Step 1: Applying the Reloaded 'Decision Tree' Model**\n",
    "\n",
    "First, we will evaluate the performance of the reloaded Decision Tree model over the training and testing datasets. This includes computing the confusion matrix, classification report, and accuracy."
   ]
  },
  {
   "cell_type": "code",
   "execution_count": 17,
   "metadata": {},
   "outputs": [],
   "source": [
    "# Reloading the 'Decision Tree' model:\n",
    "\n",
    "from pickle import load\n",
    "\n",
    "DT_loaded_model = load(open(\"../models/tree_classifier_crit-entropy_maxdepth-5_minleaf-4_minsplit2_42.sav\", \"rb\"))"
   ]
  },
  {
   "cell_type": "code",
   "execution_count": 18,
   "metadata": {},
   "outputs": [
    {
     "data": {
      "text/html": [
       "<div>\n",
       "<style scoped>\n",
       "    .dataframe tbody tr th:only-of-type {\n",
       "        vertical-align: middle;\n",
       "    }\n",
       "\n",
       "    .dataframe tbody tr th {\n",
       "        vertical-align: top;\n",
       "    }\n",
       "\n",
       "    .dataframe thead th {\n",
       "        text-align: right;\n",
       "    }\n",
       "</style>\n",
       "<table border=\"1\" class=\"dataframe\">\n",
       "  <thead>\n",
       "    <tr style=\"text-align: right;\">\n",
       "      <th></th>\n",
       "      <th>Pregnancies</th>\n",
       "      <th>Glucose</th>\n",
       "      <th>BloodPressure</th>\n",
       "      <th>SkinThickness</th>\n",
       "      <th>BMI</th>\n",
       "      <th>DiabetesPedigreeFunction</th>\n",
       "      <th>Age</th>\n",
       "      <th>Outcome</th>\n",
       "    </tr>\n",
       "  </thead>\n",
       "  <tbody>\n",
       "    <tr>\n",
       "      <th>0</th>\n",
       "      <td>2.0</td>\n",
       "      <td>84.0</td>\n",
       "      <td>72.0</td>\n",
       "      <td>27.235457</td>\n",
       "      <td>32.3</td>\n",
       "      <td>0.304</td>\n",
       "      <td>21.0</td>\n",
       "      <td>0</td>\n",
       "    </tr>\n",
       "    <tr>\n",
       "      <th>1</th>\n",
       "      <td>9.0</td>\n",
       "      <td>112.0</td>\n",
       "      <td>82.0</td>\n",
       "      <td>24.000000</td>\n",
       "      <td>28.2</td>\n",
       "      <td>1.282</td>\n",
       "      <td>50.0</td>\n",
       "      <td>1</td>\n",
       "    </tr>\n",
       "    <tr>\n",
       "      <th>2</th>\n",
       "      <td>1.0</td>\n",
       "      <td>139.0</td>\n",
       "      <td>46.0</td>\n",
       "      <td>19.000000</td>\n",
       "      <td>28.7</td>\n",
       "      <td>0.654</td>\n",
       "      <td>22.0</td>\n",
       "      <td>0</td>\n",
       "    </tr>\n",
       "    <tr>\n",
       "      <th>3</th>\n",
       "      <td>0.0</td>\n",
       "      <td>161.0</td>\n",
       "      <td>50.0</td>\n",
       "      <td>27.235457</td>\n",
       "      <td>21.9</td>\n",
       "      <td>0.254</td>\n",
       "      <td>65.0</td>\n",
       "      <td>0</td>\n",
       "    </tr>\n",
       "    <tr>\n",
       "      <th>4</th>\n",
       "      <td>6.0</td>\n",
       "      <td>134.0</td>\n",
       "      <td>80.0</td>\n",
       "      <td>37.000000</td>\n",
       "      <td>46.2</td>\n",
       "      <td>0.238</td>\n",
       "      <td>46.0</td>\n",
       "      <td>1</td>\n",
       "    </tr>\n",
       "  </tbody>\n",
       "</table>\n",
       "</div>"
      ],
      "text/plain": [
       "   Pregnancies  Glucose  BloodPressure  SkinThickness   BMI  \\\n",
       "0          2.0     84.0           72.0      27.235457  32.3   \n",
       "1          9.0    112.0           82.0      24.000000  28.2   \n",
       "2          1.0    139.0           46.0      19.000000  28.7   \n",
       "3          0.0    161.0           50.0      27.235457  21.9   \n",
       "4          6.0    134.0           80.0      37.000000  46.2   \n",
       "\n",
       "   DiabetesPedigreeFunction   Age  Outcome  \n",
       "0                     0.304  21.0        0  \n",
       "1                     1.282  50.0        1  \n",
       "2                     0.654  22.0        0  \n",
       "3                     0.254  65.0        0  \n",
       "4                     0.238  46.0        1  "
      ]
     },
     "execution_count": 18,
     "metadata": {},
     "output_type": "execute_result"
    }
   ],
   "source": [
    "# Applying the 'Decision Tree' model:\n",
    "\n",
    "from sklearn.tree import DecisionTreeClassifier\n",
    "from sklearn.metrics import classification_report, accuracy_score, confusion_matrix, ConfusionMatrixDisplay\n",
    "import pandas as pd\n",
    "import matplotlib.pyplot as plt\n",
    "\n",
    "# Reload datasets\n",
    "train_data = pd.read_csv(\"../data/processed/clean_train.csv\")\n",
    "test_data = pd.read_csv(\"../data/processed/clean_test.csv\")\n",
    "\n",
    "train_data.head()"
   ]
  },
  {
   "cell_type": "code",
   "execution_count": 20,
   "metadata": {},
   "outputs": [
    {
     "name": "stdout",
     "output_type": "stream",
     "text": [
      "Training Accuracy (Decision Tree): 0.88\n",
      "Test Accuracy (Decision Tree): 0.75\n"
     ]
    }
   ],
   "source": [
    "# Separate features and target\n",
    "X_train = train_data.drop(\"Outcome\", axis=1)  # Replace 'Outcome' with your target variable\n",
    "y_train = train_data[\"Outcome\"]\n",
    "X_test = test_data.drop(\"Outcome\", axis=1)\n",
    "y_test = test_data[\"Outcome\"]\n",
    "\n",
    "\n",
    "DT_loaded_model = DecisionTreeClassifier(\n",
    "    criterion=\"entropy\", max_depth=5, min_samples_leaf=4, min_samples_split=2, random_state=42\n",
    ")\n",
    "DT_loaded_model.fit(X_train, y_train)\n",
    "\n",
    "# Predictions on train and test datasets\n",
    "y_train_pred = DT_loaded_model.predict(X_train)\n",
    "y_test_pred = DT_loaded_model.predict(X_test)\n",
    "\n",
    "# Training accuracy\n",
    "train_accuracy = accuracy_score(y_train, y_train_pred)\n",
    "print(f\"Training Accuracy (Decision Tree): {train_accuracy:.2f}\")\n",
    "\n",
    "# Test accuracy\n",
    "test_accuracy = accuracy_score(y_test, y_test_pred)\n",
    "print(f\"Test Accuracy (Decision Tree): {test_accuracy:.2f}\")"
   ]
  },
  {
   "cell_type": "code",
   "execution_count": 21,
   "metadata": {},
   "outputs": [
    {
     "name": "stdout",
     "output_type": "stream",
     "text": [
      "\n",
      "Classification Report (Test Data - Decision Tree):\n",
      "              precision    recall  f1-score   support\n",
      "\n",
      " No Diabetes       0.79      0.84      0.81        99\n",
      "    Diabetes       0.67      0.60      0.63        55\n",
      "\n",
      "    accuracy                           0.75       154\n",
      "   macro avg       0.73      0.72      0.72       154\n",
      "weighted avg       0.75      0.75      0.75       154\n",
      "\n"
     ]
    },
    {
     "data": {
      "image/png": "[encoded data removed]",
      "text/plain": [
       "<Figure size 640x480 with 2 Axes>"
      ]
     },
     "metadata": {},
     "output_type": "display_data"
    }
   ],
   "source": [
    "# Classification report\n",
    "print(\"\\nClassification Report (Test Data - Decision Tree):\")\n",
    "print(classification_report(y_test, y_test_pred, target_names=[\"No Diabetes\", \"Diabetes\"]))\n",
    "\n",
    "# Confusion matrix\n",
    "conf_matrix = confusion_matrix(y_test, y_test_pred)\n",
    "disp = ConfusionMatrixDisplay(confusion_matrix=conf_matrix, display_labels=[\"No Diabetes\", \"Diabetes\"])\n",
    "disp.plot(cmap=\"Blues\")\n",
    "plt.title(\"Confusion Matrix (Decision Tree)\")\n",
    "plt.show()"
   ]
  },
  {
   "cell_type": "markdown",
   "metadata": {},
   "source": [
    "**Step 2: Optimizing the 'Decision Tree' Model**\n",
    "\n",
    "We will follow the provided GridSearchCV workflow to optimize the Decision Tree model and compare its performance."
   ]
  },
  {
   "cell_type": "code",
   "execution_count": 23,
   "metadata": {},
   "outputs": [
    {
     "name": "stdout",
     "output_type": "stream",
     "text": [
      "Fitting 10 folds for each of 216 candidates, totalling 2160 fits\n"
     ]
    },
    {
     "name": "stdout",
     "output_type": "stream",
     "text": [
      "Best Hyperparameters: {'criterion': 'gini', 'max_depth': 5, 'max_features': None, 'min_samples_leaf': 1, 'min_samples_split': 10}\n",
      "Best CV Accuracy: 0.81\n"
     ]
    }
   ],
   "source": [
    "from sklearn.model_selection import GridSearchCV\n",
    "from sklearn.tree import DecisionTreeClassifier\n",
    "\n",
    "# Define hyperparameters\n",
    "hyperparams = {\n",
    "    \"criterion\": [\"gini\", \"entropy\"],\n",
    "    \"max_depth\": [None, 5, 10, 20],\n",
    "    \"min_samples_split\": [2, 5, 10],\n",
    "    \"min_samples_leaf\": [1, 2, 4],\n",
    "    \"max_features\": [None, \"sqrt\", \"log2\"]\n",
    "}\n",
    "\n",
    "# Initialize the model\n",
    "tree_model = DecisionTreeClassifier(random_state=42)\n",
    "\n",
    "# Set up GridSearchCV\n",
    "grid = GridSearchCV(\n",
    "    estimator=tree_model,\n",
    "    param_grid=hyperparams,\n",
    "    scoring=\"accuracy\",\n",
    "    cv=10,\n",
    "    verbose=1,\n",
    "    refit=True\n",
    ")\n",
    "\n",
    "# Fit the grid search to the training data\n",
    "grid.fit(X_train, y_train)\n",
    "\n",
    "# Display the best hyperparameters and the corresponding score\n",
    "print(f\"Best Hyperparameters: {grid.best_params_}\")\n",
    "print(f\"Best CV Accuracy: {grid.best_score_:.2f}\")"
   ]
  },
  {
   "cell_type": "code",
   "execution_count": 24,
   "metadata": {},
   "outputs": [
    {
     "name": "stdout",
     "output_type": "stream",
     "text": [
      "Training Accuracy (Optimized Decision Tree): 0.90\n",
      "Test Accuracy (Optimized Decision Tree): 0.73\n"
     ]
    }
   ],
   "source": [
    "# Retrieve the best model\n",
    "best_model = grid.best_estimator_\n",
    "\n",
    "# Evaluate the optimized Decision Tree model\n",
    "y_train_pred_opt = best_model.predict(X_train)\n",
    "train_accuracy_opt = accuracy_score(y_train, y_train_pred_opt)\n",
    "print(f\"Training Accuracy (Optimized Decision Tree): {train_accuracy_opt:.2f}\")\n",
    "\n",
    "y_test_pred_opt = best_model.predict(X_test)\n",
    "test_accuracy_opt = accuracy_score(y_test, y_test_pred_opt)\n",
    "print(f\"Test Accuracy (Optimized Decision Tree): {test_accuracy_opt:.2f}\")"
   ]
  },
  {
   "cell_type": "code",
   "execution_count": null,
   "metadata": {},
   "outputs": [
    {
     "name": "stdout",
     "output_type": "stream",
     "text": [
      "\n",
      "Classification Report (Optimized Decision Tree):\n",
      "              precision    recall  f1-score   support\n",
      "\n",
      " No Diabetes       0.81      0.75      0.78        99\n",
      "    Diabetes       0.60      0.69      0.64        55\n",
      "\n",
      "    accuracy                           0.73       154\n",
      "   macro avg       0.71      0.72      0.71       154\n",
      "weighted avg       0.74      0.73      0.73       154\n",
      "\n"
     ]
    },
    {
     "data": {
      "image/png": "[encoded data removed]",
      "text/plain": [
       "<Figure size 640x480 with 2 Axes>"
      ]
     },
     "metadata": {},
     "output_type": "display_data"
    }
   ],
   "source": [
    "# Classification report:\n",
    "print(\"\\nClassification Report (Optimized Decision Tree):\")\n",
    "print(classification_report(y_test, y_test_pred_opt, target_names=[\"No Diabetes\", \"Diabetes\"]))\n",
    "\n",
    "# Confusion matrix:\n",
    "conf_matrix_opt = confusion_matrix(y_test, y_test_pred_opt)\n",
    "disp = ConfusionMatrixDisplay(confusion_matrix=conf_matrix_opt, display_labels=[\"No Diabetes\", \"Diabetes\"])\n",
    "disp.plot(cmap=\"Greens\")\n",
    "plt.title(\"Confusion Matrix (Optimized Decision Tree)\")\n",
    "plt.show()"
   ]
  },
  {
   "cell_type": "markdown",
   "metadata": {},
   "source": [
    "**Step 3: Building the 'Random Forest' Model**"
   ]
  },
  {
   "cell_type": "code",
   "execution_count": 29,
   "metadata": {},
   "outputs": [
    {
     "name": "stdout",
     "output_type": "stream",
     "text": [
      "Training Accuracy (Random Forest): 1.00\n",
      "Test Accuracy (Random Forest): 0.81\n"
     ]
    }
   ],
   "source": [
    "from sklearn.ensemble import RandomForestClassifier\n",
    "\n",
    "# Calling 'Random Forest' model:\n",
    "rf_model = RandomForestClassifier(n_estimators=60, random_state=42)\n",
    "rf_model.fit(X_train, y_train)\n",
    "\n",
    "# Evaluating the accuracy:\n",
    "y_train_pred_rf = rf_model.predict(X_train)\n",
    "train_accuracy_rf = accuracy_score(y_train, y_train_pred_rf)\n",
    "print(f\"Training Accuracy (Random Forest): {train_accuracy_rf:.2f}\")\n",
    "\n",
    "y_test_pred_rf = rf_model.predict(X_test)\n",
    "test_accuracy_rf = accuracy_score(y_test, y_test_pred_rf)\n",
    "print(f\"Test Accuracy (Random Forest): {test_accuracy_rf:.2f}\")"
   ]
  },
  {
   "cell_type": "code",
   "execution_count": null,
   "metadata": {},
   "outputs": [
    {
     "name": "stdout",
     "output_type": "stream",
     "text": [
      "\n",
      "Classification Report (Random Forest):\n",
      "              precision    recall  f1-score   support\n",
      "\n",
      " No Diabetes       0.86      0.85      0.85        99\n",
      "    Diabetes       0.73      0.75      0.74        55\n",
      "\n",
      "    accuracy                           0.81       154\n",
      "   macro avg       0.79      0.80      0.80       154\n",
      "weighted avg       0.81      0.81      0.81       154\n",
      "\n"
     ]
    },
    {
     "data": {
      "image/png": "[encoded data removed]",
      "text/plain": [
       "<Figure size 640x480 with 2 Axes>"
      ]
     },
     "metadata": {},
     "output_type": "display_data"
    }
   ],
   "source": [
    "# Classification report:\n",
    "print(\"\\nClassification Report (Random Forest):\")\n",
    "print(classification_report(y_test, y_test_pred_rf, target_names=[\"No Diabetes\", \"Diabetes\"]))\n",
    "\n",
    "# Confusion matrix:\n",
    "conf_matrix_rf = confusion_matrix(y_test, y_test_pred_rf)\n",
    "disp = ConfusionMatrixDisplay(confusion_matrix=conf_matrix_rf, display_labels=[\"No Diabetes\", \"Diabetes\"])\n",
    "disp.plot(cmap=\"Purples\")\n",
    "plt.title(\"Confusion Matrix (Random Forest)\")\n",
    "plt.show()"
   ]
  },
  {
   "cell_type": "markdown",
   "metadata": {},
   "source": [
    "-----------------------------------------------------------------------------------------"
   ]
  },
  {
   "cell_type": "markdown",
   "metadata": {},
   "source": [
    "# Conclusions"
   ]
  },
  {
   "cell_type": "markdown",
   "metadata": {},
   "source": [
    "**<ins>Performance Analysis</ins>**\n",
    "\n",
    "*Decision Tree:*\n",
    "\n",
    "Training Accuracy (Decision Tree): 0.88\n",
    "\n",
    "Test Accuracy (Decision Tree): 0.75\n",
    "\n",
    "------------------------------------------------------\n",
    "\n",
    "*Decision Tree - Optimised:*\n",
    "\n",
    "Training Accuracy (Optimized Decision Tree): 0.90\n",
    "\n",
    "Test Accuracy (Optimized Decision Tree): 0.73\n",
    "\n",
    "------------------------------------------------------\n",
    "\n",
    "*Random Forest:*\n",
    "\n",
    "Training Accuracy (Random Forest): 1.00\n",
    "\n",
    "Test Accuracy (Random Forest): 0.81\n",
    "\n",
    "**<ins>Interpretation:</ins>**\n",
    "\n",
    "High training accuracy vs prediction in 'Decision Tree' and 'Decision Tree Optimised' suggests overfitting. The model is learning the training data too well, including noise.\n",
    "HOwever, this seem to improve by applying the 'Random Forest' model to the exact same dataset.\n",
    "\n",
    "Comparing the noise matrix of both models, we can see a very good prediction rate for true positives and negatives, only leaving 14 cases for false negatives and 15 cases for false positives, which is a good indicator.\n",
    "\n",
    "Based on this analysis, **Random Forest is the better model for this particular study**. It balances performance metrics across classes, generalizes better, and provides a more reliable framework for predicting \"Diabetes\" outcomes."
   ]
  }
 ],
 "metadata": {
  "kernelspec": {
   "display_name": "Python 3",
   "language": "python",
   "name": "python3"
  },
  "language_info": {
   "codemirror_mode": {
    "name": "ipython",
    "version": 3
   },
   "file_extension": ".py",
   "mimetype": "text/x-python",
   "name": "python",
   "nbconvert_exporter": "python",
   "pygments_lexer": "ipython3",
   "version": "3.10.12"
  },
  "orig_nbformat": 4
 },
 "nbformat": 4,
 "nbformat_minor": 2
}
